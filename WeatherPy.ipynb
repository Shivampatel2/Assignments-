{
 "cells": [
  {
   "cell_type": "markdown",
   "metadata": {},
   "source": [
    "# WeatherPy\n",
    "----\n",
    "\n",
    "### Analysis\n",
    "* As expected, the weather becomes significantly warmer as one approaches the equator (0 Deg. Latitude). More interestingly, however, is the fact that the southern hemisphere tends to be warmer this time of year than the northern hemisphere. This may be due to the tilt of the earth.\n",
    "* There is no strong relationship between latitude and cloudiness. However, it is interesting to see that a strong band of cities sits at 0, 80, and 100% cloudiness.\n",
    "* There is no strong relationship between latitude and wind speed. However, in northern hemispheres there is a flurry of cities with over 20 mph of wind.\n",
    "\n",
    "---\n",
    "\n",
    "#### Note\n",
    "* Instructions have been included for each segment. You do not have to follow them exactly, but they are included to help you think through the steps."
   ]
  },
  {
   "cell_type": "code",
   "execution_count": 1,
   "metadata": {},
   "outputs": [
    {
     "name": "stdout",
     "output_type": "stream",
     "text": [
      "Requirement already satisfied: citipy in c:\\users\\shivam\\anaconda3\\lib\\site-packages (0.0.5)\n",
      "Requirement already satisfied: kdtree>=0.12 in c:\\users\\shivam\\anaconda3\\lib\\site-packages (from citipy) (0.16)\n"
     ]
    }
   ],
   "source": [
    "!pip install citipy"
   ]
  },
  {
   "cell_type": "code",
   "execution_count": 2,
   "metadata": {
    "scrolled": true
   },
   "outputs": [],
   "source": [
    "# Dependencies and Setup\n",
    "import matplotlib.pyplot as plt\n",
    "import pandas as pd\n",
    "import numpy as np\n",
    "import requests\n",
    "import random\n",
    "import time\n",
    "\n",
    "\n",
    "# Import API key\n",
    "from api_keys import api_key\n",
    "\n",
    "# Incorporated citipy to determine city based on latitude and longitude\n",
    "from citipy import citipy\n",
    "\n",
    "# Output File (CSV)\n",
    "output_data_file = \"output_data/cities.csv\"\n",
    "\n",
    "# Range of latitudes and longitudes\n",
    "lat_range = (-90, 90)\n",
    "lng_range = (-180, 180)"
   ]
  },
  {
   "cell_type": "code",
   "execution_count": 3,
   "metadata": {},
   "outputs": [
    {
     "name": "stdout",
     "output_type": "stream",
     "text": [
      "http://api.openweathermap.org/data/2.5/weather?appid=1a3cfc61e59d43262c44b366f24de3e5&units=imperial&q=\n"
     ]
    }
   ],
   "source": [
    "#Config information.\n",
    "url = \"http://api.openweathermap.org/data/2.5/weather?\"\n",
    "units = \"imperial\"\n",
    "\n",
    "#Partial Query URL\n",
    "query_url = f\"{url}appid={api_key}&units={units}&q=\"\n",
    "print(query_url)"
   ]
  },
  {
   "cell_type": "code",
   "execution_count": 4,
   "metadata": {},
   "outputs": [],
   "source": [
    "weather_response = requests.get(query_url)\n",
    "weather_json = weather_response.json()"
   ]
  },
  {
   "cell_type": "markdown",
   "metadata": {},
   "source": [
    "## Generate Cities List"
   ]
  },
  {
   "cell_type": "code",
   "execution_count": 5,
   "metadata": {},
   "outputs": [
    {
     "data": {
      "text/plain": [
       "266"
      ]
     },
     "execution_count": 5,
     "metadata": {},
     "output_type": "execute_result"
    }
   ],
   "source": [
    "# List for holding lat_lngs and cities\n",
    "lat_lngs = []\n",
    "cities = []\n",
    "\n",
    "# Create a set of random lat and lng combinations\n",
    "lats = np.random.uniform(low=-90.000, high=90.000, size=500)\n",
    "lngs = np.random.uniform(low=-180.000, high=180.000, size=500)\n",
    "lat_lngs = zip(lats, lngs)\n",
    "\n",
    "# Identify nearest city for each lat, lng combination\n",
    "for lat_lng in lat_lngs:\n",
    "    city = citipy.nearest_city(lat_lng[0], lat_lng[1]).city_name\n",
    "    \n",
    "    # If the city is unique, then add it to a our cities list\n",
    "    if city not in cities:\n",
    "        cities.append(city)\n",
    "\n",
    "# Print the city count to confirm sufficient count\n",
    "len(cities)"
   ]
  },
  {
   "cell_type": "code",
   "execution_count": 6,
   "metadata": {},
   "outputs": [
    {
     "data": {
      "text/plain": [
       "500"
      ]
     },
     "execution_count": 6,
     "metadata": {},
     "output_type": "execute_result"
    }
   ],
   "source": [
    "Cities = 500\n",
    "Lat = []\n",
    "Lng = []\n",
    "Citys = []\n",
    "Countries = []\n",
    "\n",
    "for stuff in range(Cities):\n",
    "    latcoor=random.uniform(-90,90)\n",
    "    lngcoor=random.uniform(-180,180)\n",
    "    Lat.append(latcoor)\n",
    "    Lng.append(lngcoor)\n",
    "    city=citipy.nearest_city(latcoor,lngcoor)\n",
    "    city_name=city.city_name\n",
    "    Citys.append(city_name)\n",
    "    country=city.country_code\n",
    "    Countries.append(country)\n",
    "    \n",
    "len(Countries)\n"
   ]
  },
  {
   "cell_type": "code",
   "execution_count": 7,
   "metadata": {},
   "outputs": [
    {
     "data": {
      "text/html": [
       "<div>\n",
       "<style scoped>\n",
       "    .dataframe tbody tr th:only-of-type {\n",
       "        vertical-align: middle;\n",
       "    }\n",
       "\n",
       "    .dataframe tbody tr th {\n",
       "        vertical-align: top;\n",
       "    }\n",
       "\n",
       "    .dataframe thead th {\n",
       "        text-align: right;\n",
       "    }\n",
       "</style>\n",
       "<table border=\"1\" class=\"dataframe\">\n",
       "  <thead>\n",
       "    <tr style=\"text-align: right;\">\n",
       "      <th></th>\n",
       "      <th>Lattitude</th>\n",
       "      <th>Longitude</th>\n",
       "      <th>City</th>\n",
       "      <th>Country</th>\n",
       "    </tr>\n",
       "  </thead>\n",
       "  <tbody>\n",
       "    <tr>\n",
       "      <th>0</th>\n",
       "      <td>89.262674</td>\n",
       "      <td>133.352011</td>\n",
       "      <td>nizhneyansk</td>\n",
       "      <td>ru</td>\n",
       "    </tr>\n",
       "    <tr>\n",
       "      <th>1</th>\n",
       "      <td>-8.590544</td>\n",
       "      <td>-179.586269</td>\n",
       "      <td>vaitupu</td>\n",
       "      <td>wf</td>\n",
       "    </tr>\n",
       "    <tr>\n",
       "      <th>2</th>\n",
       "      <td>-3.896590</td>\n",
       "      <td>-142.786950</td>\n",
       "      <td>atuona</td>\n",
       "      <td>pf</td>\n",
       "    </tr>\n",
       "    <tr>\n",
       "      <th>3</th>\n",
       "      <td>40.590355</td>\n",
       "      <td>-136.383203</td>\n",
       "      <td>eureka</td>\n",
       "      <td>us</td>\n",
       "    </tr>\n",
       "    <tr>\n",
       "      <th>4</th>\n",
       "      <td>15.880696</td>\n",
       "      <td>-152.692020</td>\n",
       "      <td>hilo</td>\n",
       "      <td>us</td>\n",
       "    </tr>\n",
       "  </tbody>\n",
       "</table>\n",
       "</div>"
      ],
      "text/plain": [
       "   Lattitude   Longitude         City Country\n",
       "0  89.262674  133.352011  nizhneyansk      ru\n",
       "1  -8.590544 -179.586269      vaitupu      wf\n",
       "2  -3.896590 -142.786950       atuona      pf\n",
       "3  40.590355 -136.383203       eureka      us\n",
       "4  15.880696 -152.692020         hilo      us"
      ]
     },
     "execution_count": 7,
     "metadata": {},
     "output_type": "execute_result"
    }
   ],
   "source": [
    "city=pd.DataFrame({\"Lattitude\":Lat,\"Longitude\":Lng,\"City\": Citys,\"Country\":Countries})\n",
    "city.head()"
   ]
  },
  {
   "cell_type": "code",
   "execution_count": 8,
   "metadata": {},
   "outputs": [
    {
     "data": {
      "text/plain": [
       "'nizhneyansk'"
      ]
     },
     "execution_count": 8,
     "metadata": {},
     "output_type": "execute_result"
    }
   ],
   "source": [
    "citylist = list(city['City'])\n",
    "citylist[0]"
   ]
  },
  {
   "cell_type": "markdown",
   "metadata": {},
   "source": [
    "### Perform API Calls\n",
    "* Perform a weather check on each city using a series of successive API calls.\n",
    "* Include a print log of each city as it'sbeing processed (with the city number and city name).\n"
   ]
  },
  {
   "cell_type": "code",
   "execution_count": 9,
   "metadata": {},
   "outputs": [
    {
     "data": {
      "text/plain": [
       "{'cod': '404', 'message': 'city not found'}"
      ]
     },
     "execution_count": 9,
     "metadata": {},
     "output_type": "execute_result"
    }
   ],
   "source": [
    "counter = 0 \n",
    "for x in range(len(citylist)): \n",
    "    counter = counter + 1\n",
    "response = requests.get(query_url+citylist[0]).json()\n",
    "response"
   ]
  },
  {
   "cell_type": "code",
   "execution_count": 10,
   "metadata": {},
   "outputs": [
    {
     "data": {
      "text/plain": [
       "dict_keys(['cod', 'message'])"
      ]
     },
     "execution_count": 10,
     "metadata": {},
     "output_type": "execute_result"
    }
   ],
   "source": [
    "response.keys()"
   ]
  },
  {
   "cell_type": "code",
   "execution_count": 11,
   "metadata": {},
   "outputs": [
    {
     "ename": "KeyError",
     "evalue": "'name'",
     "output_type": "error",
     "traceback": [
      "\u001b[1;31m---------------------------------------------------------------------------\u001b[0m",
      "\u001b[1;31mKeyError\u001b[0m                                  Traceback (most recent call last)",
      "\u001b[1;32m<ipython-input-11-6945ba8e5051>\u001b[0m in \u001b[0;36m<module>\u001b[1;34m\u001b[0m\n\u001b[1;32m----> 1\u001b[1;33m \u001b[0mresponse\u001b[0m\u001b[1;33m[\u001b[0m\u001b[1;34m'name'\u001b[0m\u001b[1;33m]\u001b[0m\u001b[1;33m,\u001b[0m\u001b[0mresponse\u001b[0m\u001b[1;33m[\u001b[0m\u001b[1;34m'clouds'\u001b[0m\u001b[1;33m]\u001b[0m\u001b[1;33m[\u001b[0m\u001b[1;34m'all'\u001b[0m\u001b[1;33m]\u001b[0m\u001b[1;33m,\u001b[0m\u001b[0mresponse\u001b[0m\u001b[1;33m[\u001b[0m\u001b[1;34m'sys'\u001b[0m\u001b[1;33m]\u001b[0m\u001b[1;33m[\u001b[0m\u001b[1;34m'country'\u001b[0m\u001b[1;33m]\u001b[0m\u001b[1;33m,\u001b[0m\u001b[0mresponse\u001b[0m\u001b[1;33m[\u001b[0m\u001b[1;34m'dt'\u001b[0m\u001b[1;33m]\u001b[0m\u001b[1;33m,\u001b[0m\u001b[0mresponse\u001b[0m\u001b[1;33m[\u001b[0m\u001b[1;34m'main'\u001b[0m\u001b[1;33m]\u001b[0m\u001b[1;33m[\u001b[0m\u001b[1;34m'humidity'\u001b[0m\u001b[1;33m]\u001b[0m\u001b[1;33m,\u001b[0m\u001b[0mresponse\u001b[0m\u001b[1;33m[\u001b[0m\u001b[1;34m'coord'\u001b[0m\u001b[1;33m]\u001b[0m\u001b[1;33m[\u001b[0m\u001b[1;34m'lat'\u001b[0m\u001b[1;33m]\u001b[0m\u001b[1;33m,\u001b[0m\u001b[0mresponse\u001b[0m\u001b[1;33m[\u001b[0m\u001b[1;34m'coord'\u001b[0m\u001b[1;33m]\u001b[0m\u001b[1;33m[\u001b[0m\u001b[1;34m'lon'\u001b[0m\u001b[1;33m]\u001b[0m\u001b[1;33m,\u001b[0m\u001b[0mresponse\u001b[0m\u001b[1;33m[\u001b[0m\u001b[1;34m'main'\u001b[0m\u001b[1;33m]\u001b[0m\u001b[1;33m[\u001b[0m\u001b[1;34m'temp_max'\u001b[0m\u001b[1;33m]\u001b[0m\u001b[1;33m,\u001b[0m\u001b[0mresponse\u001b[0m\u001b[1;33m[\u001b[0m\u001b[1;34m'wind'\u001b[0m\u001b[1;33m]\u001b[0m\u001b[1;33m[\u001b[0m\u001b[1;34m'speed'\u001b[0m\u001b[1;33m]\u001b[0m\u001b[1;33m\u001b[0m\u001b[1;33m\u001b[0m\u001b[0m\n\u001b[0m",
      "\u001b[1;31mKeyError\u001b[0m: 'name'"
     ]
    }
   ],
   "source": [
    "response['name'],response['clouds']['all'],response['sys']['country'],response['dt'],response['main']['humidity'],response['coord']['lat'],response['coord']['lon'],response['main']['temp_max'],response['wind']['speed']"
   ]
  },
  {
   "cell_type": "code",
   "execution_count": 12,
   "metadata": {},
   "outputs": [
    {
     "name": "stdout",
     "output_type": "stream",
     "text": [
      "Done\n",
      "500\n"
     ]
    }
   ],
   "source": [
    "city = []\n",
    "cloudy = []\n",
    "country = []\n",
    "date = []\n",
    "humidity = []\n",
    "lat = []\n",
    "lng = []\n",
    "maxtemp = []\n",
    "windspeed = []\n",
    "\n",
    "for x in range(500):\n",
    "    try:\n",
    "        response = requests.get(query_url + citylist[x]).json()\n",
    "        tname = response['name']\n",
    "        tcloudiness = response['clouds']['all']\n",
    "        tcountry = response['sys']['country']\n",
    "        tdate = response['dt']\n",
    "        thumidity = response['main']['humidity']\n",
    "        tlat = response['coord']['lat']\n",
    "        tlng = response['coord']['lon']\n",
    "        tmaxtemp = response['main']['temp_max']\n",
    "        twindspeed = response['wind']['speed']\n",
    "        city.append(tname)\n",
    "        cloudy.append(tcloudiness)\n",
    "        country.append(tcountry)\n",
    "        date.append(tdate)\n",
    "        humidity.append(thumidity)\n",
    "        lat.append(tlat)\n",
    "        lng.append(tlng)\n",
    "        maxtemp.append(tmaxtemp)\n",
    "        windspeed.append(twindspeed)\n",
    "    except KeyError:\n",
    "        response = \"\"\n",
    "        tname = citylist[x]\n",
    "        tcloudiness = 0\n",
    "        tcountry = \"N/A\"\n",
    "        tdate = \"\"\n",
    "        thumidity = 0\n",
    "        tlat = 0\n",
    "        tlng = 0\n",
    "        tmaxtemp = 0\n",
    "        twindspeed = 0\n",
    "        city.append(tname)\n",
    "        cloudy.append(tcloudiness)\n",
    "        country.append(tcountry)\n",
    "        date.append(tdate)\n",
    "        humidity.append(thumidity)\n",
    "        lat.append(tlat)\n",
    "        lng.append(tlng)\n",
    "        maxtemp.append(tmaxtemp)\n",
    "        windspeed.append(twindspeed)\n",
    "print(\"Done\")\n",
    "\n",
    "print(len(city))\n"
   ]
  },
  {
   "cell_type": "markdown",
   "metadata": {},
   "source": [
    "### Convert Raw Data to DataFrame\n",
    "* Export the city data into a .csv.\n",
    "* Display the DataFrame"
   ]
  },
  {
   "cell_type": "code",
   "execution_count": 14,
   "metadata": {},
   "outputs": [
    {
     "data": {
      "text/html": [
       "<div>\n",
       "<style scoped>\n",
       "    .dataframe tbody tr th:only-of-type {\n",
       "        vertical-align: middle;\n",
       "    }\n",
       "\n",
       "    .dataframe tbody tr th {\n",
       "        vertical-align: top;\n",
       "    }\n",
       "\n",
       "    .dataframe thead th {\n",
       "        text-align: right;\n",
       "    }\n",
       "</style>\n",
       "<table border=\"1\" class=\"dataframe\">\n",
       "  <thead>\n",
       "    <tr style=\"text-align: right;\">\n",
       "      <th></th>\n",
       "      <th>City</th>\n",
       "      <th>Cloudiness</th>\n",
       "      <th>Country</th>\n",
       "      <th>Date</th>\n",
       "      <th>Humidity</th>\n",
       "      <th>Lat</th>\n",
       "      <th>Lng</th>\n",
       "      <th>Max Temp</th>\n",
       "      <th>Wind Speed</th>\n",
       "    </tr>\n",
       "  </thead>\n",
       "  <tbody>\n",
       "    <tr>\n",
       "      <th>0</th>\n",
       "      <td>nizhneyansk</td>\n",
       "      <td>0</td>\n",
       "      <td>N/A</td>\n",
       "      <td></td>\n",
       "      <td>0</td>\n",
       "      <td>0.00</td>\n",
       "      <td>0.00</td>\n",
       "      <td>0.00</td>\n",
       "      <td>0.00</td>\n",
       "    </tr>\n",
       "    <tr>\n",
       "      <th>1</th>\n",
       "      <td>vaitupu</td>\n",
       "      <td>0</td>\n",
       "      <td>N/A</td>\n",
       "      <td></td>\n",
       "      <td>0</td>\n",
       "      <td>0.00</td>\n",
       "      <td>0.00</td>\n",
       "      <td>0.00</td>\n",
       "      <td>0.00</td>\n",
       "    </tr>\n",
       "    <tr>\n",
       "      <th>2</th>\n",
       "      <td>Atuona</td>\n",
       "      <td>92</td>\n",
       "      <td>PF</td>\n",
       "      <td>1554063298</td>\n",
       "      <td>100</td>\n",
       "      <td>-9.80</td>\n",
       "      <td>-139.03</td>\n",
       "      <td>81.38</td>\n",
       "      <td>10.96</td>\n",
       "    </tr>\n",
       "    <tr>\n",
       "      <th>3</th>\n",
       "      <td>Eureka</td>\n",
       "      <td>1</td>\n",
       "      <td>US</td>\n",
       "      <td>1554063193</td>\n",
       "      <td>81</td>\n",
       "      <td>40.80</td>\n",
       "      <td>-124.16</td>\n",
       "      <td>63.00</td>\n",
       "      <td>6.93</td>\n",
       "    </tr>\n",
       "    <tr>\n",
       "      <th>4</th>\n",
       "      <td>Hilo</td>\n",
       "      <td>40</td>\n",
       "      <td>US</td>\n",
       "      <td>1554063154</td>\n",
       "      <td>61</td>\n",
       "      <td>19.71</td>\n",
       "      <td>-155.08</td>\n",
       "      <td>79.00</td>\n",
       "      <td>6.93</td>\n",
       "    </tr>\n",
       "  </tbody>\n",
       "</table>\n",
       "</div>"
      ],
      "text/plain": [
       "          City  Cloudiness Country        Date  Humidity    Lat     Lng  \\\n",
       "0  nizhneyansk           0     N/A                     0   0.00    0.00   \n",
       "1      vaitupu           0     N/A                     0   0.00    0.00   \n",
       "2       Atuona          92      PF  1554063298       100  -9.80 -139.03   \n",
       "3       Eureka           1      US  1554063193        81  40.80 -124.16   \n",
       "4         Hilo          40      US  1554063154        61  19.71 -155.08   \n",
       "\n",
       "   Max Temp  Wind Speed  \n",
       "0      0.00        0.00  \n",
       "1      0.00        0.00  \n",
       "2     81.38       10.96  \n",
       "3     63.00        6.93  \n",
       "4     79.00        6.93  "
      ]
     },
     "execution_count": 14,
     "metadata": {},
     "output_type": "execute_result"
    }
   ],
   "source": [
    "data = pd.DataFrame({\n",
    "    \"City\": city,\n",
    "    \"Cloudiness\": cloudy,\n",
    "    \"Country\" : country,\n",
    "    \"Date\" : date,\n",
    "    \"Humidity\" : humidity,\n",
    "    \"Lat\" : lat,\n",
    "    \"Lng\" : lng,\n",
    "    \"Max Temp\" : maxtemp,\n",
    "    \"Wind Speed\" : windspeed\n",
    "})\n",
    "\n",
    "data.head()"
   ]
  },
  {
   "cell_type": "code",
   "execution_count": 16,
   "metadata": {},
   "outputs": [],
   "source": [
    "data.to_csv(\"Weather Data\")"
   ]
  },
  {
   "cell_type": "markdown",
   "metadata": {},
   "source": [
    "### Plotting the Data\n",
    "* Use proper labeling of the plots using plot titles (including date of analysis) and axes labels.\n",
    "* Save the plotted figures as .pngs."
   ]
  },
  {
   "cell_type": "code",
   "execution_count": 18,
   "metadata": {},
   "outputs": [
    {
     "data": {
      "text/html": [
       "<div>\n",
       "<style scoped>\n",
       "    .dataframe tbody tr th:only-of-type {\n",
       "        vertical-align: middle;\n",
       "    }\n",
       "\n",
       "    .dataframe tbody tr th {\n",
       "        vertical-align: top;\n",
       "    }\n",
       "\n",
       "    .dataframe thead th {\n",
       "        text-align: right;\n",
       "    }\n",
       "</style>\n",
       "<table border=\"1\" class=\"dataframe\">\n",
       "  <thead>\n",
       "    <tr style=\"text-align: right;\">\n",
       "      <th></th>\n",
       "      <th>City</th>\n",
       "      <th>Cloudiness</th>\n",
       "      <th>Country</th>\n",
       "      <th>Date</th>\n",
       "      <th>Humidity</th>\n",
       "      <th>Lat</th>\n",
       "      <th>Lng</th>\n",
       "      <th>Max Temp</th>\n",
       "      <th>Wind Speed</th>\n",
       "    </tr>\n",
       "  </thead>\n",
       "  <tbody>\n",
       "    <tr>\n",
       "      <th>0</th>\n",
       "      <td>nizhneyansk</td>\n",
       "      <td>0</td>\n",
       "      <td>N/A</td>\n",
       "      <td></td>\n",
       "      <td>0</td>\n",
       "      <td>0.00</td>\n",
       "      <td>0.00</td>\n",
       "      <td>0.00</td>\n",
       "      <td>0.00</td>\n",
       "    </tr>\n",
       "    <tr>\n",
       "      <th>1</th>\n",
       "      <td>vaitupu</td>\n",
       "      <td>0</td>\n",
       "      <td>N/A</td>\n",
       "      <td></td>\n",
       "      <td>0</td>\n",
       "      <td>0.00</td>\n",
       "      <td>0.00</td>\n",
       "      <td>0.00</td>\n",
       "      <td>0.00</td>\n",
       "    </tr>\n",
       "    <tr>\n",
       "      <th>2</th>\n",
       "      <td>Atuona</td>\n",
       "      <td>92</td>\n",
       "      <td>PF</td>\n",
       "      <td>1554063298</td>\n",
       "      <td>100</td>\n",
       "      <td>-9.80</td>\n",
       "      <td>-139.03</td>\n",
       "      <td>81.38</td>\n",
       "      <td>10.96</td>\n",
       "    </tr>\n",
       "    <tr>\n",
       "      <th>3</th>\n",
       "      <td>Eureka</td>\n",
       "      <td>1</td>\n",
       "      <td>US</td>\n",
       "      <td>1554063193</td>\n",
       "      <td>81</td>\n",
       "      <td>40.80</td>\n",
       "      <td>-124.16</td>\n",
       "      <td>63.00</td>\n",
       "      <td>6.93</td>\n",
       "    </tr>\n",
       "    <tr>\n",
       "      <th>4</th>\n",
       "      <td>Hilo</td>\n",
       "      <td>40</td>\n",
       "      <td>US</td>\n",
       "      <td>1554063154</td>\n",
       "      <td>61</td>\n",
       "      <td>19.71</td>\n",
       "      <td>-155.08</td>\n",
       "      <td>79.00</td>\n",
       "      <td>6.93</td>\n",
       "    </tr>\n",
       "    <tr>\n",
       "      <th>5</th>\n",
       "      <td>Ushuaia</td>\n",
       "      <td>75</td>\n",
       "      <td>AR</td>\n",
       "      <td>1554058800</td>\n",
       "      <td>81</td>\n",
       "      <td>-54.81</td>\n",
       "      <td>-68.31</td>\n",
       "      <td>53.60</td>\n",
       "      <td>19.46</td>\n",
       "    </tr>\n",
       "    <tr>\n",
       "      <th>6</th>\n",
       "      <td>Maragogi</td>\n",
       "      <td>80</td>\n",
       "      <td>BR</td>\n",
       "      <td>1554063343</td>\n",
       "      <td>95</td>\n",
       "      <td>-9.01</td>\n",
       "      <td>-35.22</td>\n",
       "      <td>78.68</td>\n",
       "      <td>5.59</td>\n",
       "    </tr>\n",
       "    <tr>\n",
       "      <th>7</th>\n",
       "      <td>Mahebourg</td>\n",
       "      <td>40</td>\n",
       "      <td>MU</td>\n",
       "      <td>1554063242</td>\n",
       "      <td>78</td>\n",
       "      <td>-20.41</td>\n",
       "      <td>57.70</td>\n",
       "      <td>78.80</td>\n",
       "      <td>4.70</td>\n",
       "    </tr>\n",
       "    <tr>\n",
       "      <th>8</th>\n",
       "      <td>Itoman</td>\n",
       "      <td>75</td>\n",
       "      <td>JP</td>\n",
       "      <td>1554063146</td>\n",
       "      <td>59</td>\n",
       "      <td>26.12</td>\n",
       "      <td>127.67</td>\n",
       "      <td>62.60</td>\n",
       "      <td>16.11</td>\n",
       "    </tr>\n",
       "    <tr>\n",
       "      <th>9</th>\n",
       "      <td>Tambovka</td>\n",
       "      <td>0</td>\n",
       "      <td>UA</td>\n",
       "      <td>1554063344</td>\n",
       "      <td>86</td>\n",
       "      <td>46.93</td>\n",
       "      <td>35.45</td>\n",
       "      <td>39.08</td>\n",
       "      <td>1.90</td>\n",
       "    </tr>\n",
       "  </tbody>\n",
       "</table>\n",
       "</div>"
      ],
      "text/plain": [
       "          City  Cloudiness Country        Date  Humidity    Lat     Lng  \\\n",
       "0  nizhneyansk           0     N/A                     0   0.00    0.00   \n",
       "1      vaitupu           0     N/A                     0   0.00    0.00   \n",
       "2       Atuona          92      PF  1554063298       100  -9.80 -139.03   \n",
       "3       Eureka           1      US  1554063193        81  40.80 -124.16   \n",
       "4         Hilo          40      US  1554063154        61  19.71 -155.08   \n",
       "5      Ushuaia          75      AR  1554058800        81 -54.81  -68.31   \n",
       "6     Maragogi          80      BR  1554063343        95  -9.01  -35.22   \n",
       "7    Mahebourg          40      MU  1554063242        78 -20.41   57.70   \n",
       "8       Itoman          75      JP  1554063146        59  26.12  127.67   \n",
       "9     Tambovka           0      UA  1554063344        86  46.93   35.45   \n",
       "\n",
       "   Max Temp  Wind Speed  \n",
       "0      0.00        0.00  \n",
       "1      0.00        0.00  \n",
       "2     81.38       10.96  \n",
       "3     63.00        6.93  \n",
       "4     79.00        6.93  \n",
       "5     53.60       19.46  \n",
       "6     78.68        5.59  \n",
       "7     78.80        4.70  \n",
       "8     62.60       16.11  \n",
       "9     39.08        1.90  "
      ]
     },
     "execution_count": 18,
     "metadata": {},
     "output_type": "execute_result"
    }
   ],
   "source": [
    "df = pd.DataFrame({\n",
    "    \"City\": city,\n",
    "    \"Cloudiness\": cloudy,\n",
    "    \"Country\" : country,\n",
    "    \"Date\" : date,\n",
    "    \"Humidity\" : humidity,\n",
    "    \"Lat\" : lat,\n",
    "    \"Lng\" : lng,\n",
    "    \"Max Temp\" : maxtemp,\n",
    "    \"Wind Speed\" : windspeed\n",
    "})\n",
    "\n",
    "df.head(10)\n"
   ]
  },
  {
   "cell_type": "markdown",
   "metadata": {},
   "source": [
    "#### Latitude vs. Temperature Plot"
   ]
  },
  {
   "cell_type": "code",
   "execution_count": 23,
   "metadata": {},
   "outputs": [
    {
     "data": {
      "image/png": "[encoded data removed]",
      "text/plain": [
       "<Figure size 432x288 with 1 Axes>"
      ]
     },
     "metadata": {
      "needs_background": "light"
     },
     "output_type": "display_data"
    }
   ],
   "source": [
    "x = df['Lat']\n",
    "y = df['Max Temp']\n",
    "LatTemp = plt.scatter(x, y, c=\"green\")\n",
    "plt.title(\"Lattitude vs. Temperature Plot\")\n",
    "plt.xlabel(\"Lattitude\")\n",
    "plt.ylabel(\"Max Temperature in (F)\")\n",
    "plt.show()"
   ]
  },
  {
   "cell_type": "markdown",
   "metadata": {},
   "source": [
    "#### Latitude vs. Humidity Plot"
   ]
  },
  {
   "cell_type": "code",
   "execution_count": 25,
   "metadata": {},
   "outputs": [
    {
     "data": {
      "image/png": "[encoded data removed]",
      "text/plain": [
       "<Figure size 432x288 with 1 Axes>"
      ]
     },
     "metadata": {
      "needs_background": "light"
     },
     "output_type": "display_data"
    }
   ],
   "source": [
    "x = df['Lat']\n",
    "y = df['Humidity']\n",
    "LatTemp = plt.scatter(x, y, c=\"red\")\n",
    "plt.title(\"Lattitude vs. Humidity Plot\")\n",
    "plt.xlabel(\"Lattitude\")\n",
    "plt.ylabel(\"Humidity in %\")\n",
    "plt.show()"
   ]
  },
  {
   "cell_type": "markdown",
   "metadata": {},
   "source": [
    "#### Latitude vs. Cloudiness Plot"
   ]
  },
  {
   "cell_type": "code",
   "execution_count": 27,
   "metadata": {},
   "outputs": [
    {
     "data": {
      "image/png": "[encoded data removed]",
      "text/plain": [
       "<Figure size 432x288 with 1 Axes>"
      ]
     },
     "metadata": {
      "needs_background": "light"
     },
     "output_type": "display_data"
    }
   ],
   "source": [
    "x = df['Lat']\n",
    "y = df['Cloudiness']\n",
    "LatTemp = plt.scatter(x, y, c=\"blue\")\n",
    "plt.title(\"Lattitude vs. Cloudiness Plot\")\n",
    "plt.xlabel(\"Lattitude\")\n",
    "plt.ylabel(\"Cloudiness\")\n",
    "plt.show()"
   ]
  },
  {
   "cell_type": "markdown",
   "metadata": {},
   "source": [
    "#### Latitude vs. Wind Speed Plot"
   ]
  },
  {
   "cell_type": "code",
   "execution_count": 28,
   "metadata": {},
   "outputs": [
    {
     "data": {
      "image/png": "[encoded data removed]",
      "text/plain": [
       "<Figure size 432x288 with 1 Axes>"
      ]
     },
     "metadata": {
      "needs_background": "light"
     },
     "output_type": "display_data"
    }
   ],
   "source": [
    "x = df['Lat']\n",
    "y = df['Wind Speed']\n",
    "LatTemp = plt.scatter(x, y, c=\"yellow\")\n",
    "plt.title(\"Lattitude vs. Wind Speed Plot\")\n",
    "plt.xlabel(\"Lattitude\")\n",
    "plt.ylabel(\"Wind Speed (mph)\")\n",
    "plt.show()"
   ]
  },
  {
   "cell_type": "code",
   "execution_count": null,
   "metadata": {},
   "outputs": [],
   "source": []
  }
 ],
 "metadata": {
  "anaconda-cloud": {},
  "kernel_info": {
   "name": "python3"
  },
  "kernelspec": {
   "display_name": "Python 3",
   "language": "python",
   "name": "python3"
  },
  "language_info": {
   "codemirror_mode": {
    "name": "ipython",
    "version": 3
   },
   "file_extension": ".py",
   "mimetype": "text/x-python",
   "name": "python",
   "nbconvert_exporter": "python",
   "pygments_lexer": "ipython3",
   "version": "3.7.1"
  },
  "nteract": {
   "version": "0.12.3"
  }
 },
 "nbformat": 4,
 "nbformat_minor": 2
}
